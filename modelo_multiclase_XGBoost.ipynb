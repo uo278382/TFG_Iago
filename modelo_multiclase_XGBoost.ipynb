{
  "nbformat": 4,
  "nbformat_minor": 0,
  "metadata": {
    "colab": {
      "provenance": []
    },
    "kernelspec": {
      "name": "python3",
      "display_name": "Python 3"
    },
    "language_info": {
      "name": "python"
    }
  },
  "cells": [
    {
      "cell_type": "code",
      "execution_count": 1,
      "metadata": {
        "id": "0gNZIh5TlApN"
      },
      "outputs": [],
      "source": [
        "import numpy as np\n",
        "import pandas as pd\n",
        "import matplotlib.pyplot as plt\n",
        "import glob\n",
        "\n",
        "from sklearn.model_selection import train_test_split\n",
        "from sklearn.preprocessing import StandardScaler\n",
        "from sklearn.metrics import confusion_matrix, classification_report\n",
        "\n",
        "from tensorflow.keras.models import Sequential\n",
        "from tensorflow.keras.layers import Dense\n",
        "from tensorflow.keras.utils import to_categorical\n",
        "from tensorflow.keras.models import save_model\n",
        "import joblib"
      ]
    },
    {
      "cell_type": "code",
      "source": [
        "csv_files = glob.glob(\"/content/drive/MyDrive/Datos_TFG_HP/Datos_finales/Multiclase/*.csv\")\n",
        "\n",
        "\n",
        "df_list = [pd.read_csv(f) for f in csv_files]\n",
        "df = pd.concat(df_list, ignore_index=True)\n",
        "\n",
        "print(f\"Total de muestras: {len(df)}\")\n",
        "print(\"Columnas:\", df.columns)"
      ],
      "metadata": {
        "colab": {
          "base_uri": "https://localhost:8080/"
        },
        "id": "4gRpZEwalEE8",
        "outputId": "be533c63-e3b0-4ca3-834e-adc3df4b78ee"
      },
      "execution_count": 2,
      "outputs": [
        {
          "output_type": "stream",
          "name": "stdout",
          "text": [
            "Total de muestras: 12100\n",
            "Columnas: Index(['event_id', 'clase', 'game_clock_1', 'shot_clock_1', 'x_loc_ball_1',\n",
            "       'y_loc_ball_1', 'z_loc_ball_1', 'x_loc_player_1_1', 'y_loc_player_1_1',\n",
            "       'x_loc_player_2_1',\n",
            "       ...\n",
            "       'x_loc_player_6_40', 'y_loc_player_6_40', 'x_loc_player_7_40',\n",
            "       'y_loc_player_7_40', 'x_loc_player_8_40', 'y_loc_player_8_40',\n",
            "       'x_loc_player_9_40', 'y_loc_player_9_40', 'x_loc_player_10_40',\n",
            "       'y_loc_player_10_40'],\n",
            "      dtype='object', length=1002)\n"
          ]
        }
      ]
    },
    {
      "cell_type": "code",
      "source": [
        "y = df[\"clase\"].values\n",
        "\n",
        "X = df.drop(columns=[\"event_id\", \"clase\"]).values\n",
        "\n",
        "print(\"Forma de X:\", X.shape)\n",
        "print(\"Forma de y:\", y.shape)"
      ],
      "metadata": {
        "colab": {
          "base_uri": "https://localhost:8080/"
        },
        "id": "gwy-sZlwnXAp",
        "outputId": "d53271d3-87b6-4599-fa83-ce5c63ae3239"
      },
      "execution_count": 3,
      "outputs": [
        {
          "output_type": "stream",
          "name": "stdout",
          "text": [
            "Forma de X: (12100, 1000)\n",
            "Forma de y: (12100,)\n"
          ]
        }
      ]
    },
    {
      "cell_type": "code",
      "source": [
        "from xgboost import XGBClassifier\n",
        "from sklearn.model_selection import train_test_split\n",
        "from sklearn.metrics import classification_report, confusion_matrix\n",
        "import pandas as pd\n",
        "\n",
        "from xgboost import XGBClassifier\n",
        "from sklearn.model_selection import RandomizedSearchCV\n",
        "from sklearn.metrics import classification_report, confusion_matrix\n",
        "import pandas as pd\n",
        "import numpy as np\n",
        "\n",
        "\n",
        "X_train, X_test, y_train, y_test = train_test_split(X, y, test_size=0.15, stratify=y, random_state=42)\n",
        "\n",
        "param_dist = {\n",
        "    'n_estimators': [100, 200, 300],\n",
        "    'max_depth': [4, 6, 8, 10],\n",
        "    'learning_rate': [0.01, 0.05, 0.1, 0.2],\n",
        "    'subsample': [0.6, 0.8, 1.0],\n",
        "    'colsample_bytree': [0.6, 0.8, 1.0],\n",
        "    'gamma': [0, 1, 5],\n",
        "    'reg_lambda': [0, 1, 10],\n",
        "    'reg_alpha': [0, 1, 5]\n",
        "}\n",
        "\n",
        "xgb = XGBClassifier(\n",
        "    objective='multi:softmax',\n",
        "    num_class=len(np.unique(y)),\n",
        "    use_label_encoder=False,\n",
        "    eval_metric='mlogloss',\n",
        "    verbosity=0\n",
        ")\n",
        "\n",
        "random_search = RandomizedSearchCV(\n",
        "    estimator=xgb,\n",
        "    param_distributions=param_dist,\n",
        "    n_iter=30,\n",
        "    scoring='accuracy',\n",
        "    cv=3,\n",
        "    verbose=2,\n",
        "    n_jobs=-1,\n",
        "    random_state=42\n",
        ")\n",
        "\n",
        "random_search.fit(X_train, y_train)\n",
        "\n",
        "best_model = random_search.best_estimator_\n",
        "\n",
        "joblib.dump(best_model, 'best_xgb_model.joblib')\n",
        "\n",
        "y_pred = best_model.predict(X_test)\n",
        "\n",
        "print(\"Classification Report:\")\n",
        "print(classification_report(y_test, y_pred, digits=4))\n",
        "\n",
        "print(\"Matriz de Confusión:\")\n",
        "print(pd.DataFrame(confusion_matrix(y_test, y_pred),\n",
        "                   index=[f\"Clase {i}\" for i in np.unique(y)],\n",
        "                   columns=[f\"Pred {i}\" for i in np.unique(y)]))\n",
        "\n",
        "print(\"\\nMejores hiperparámetros:\")\n",
        "print(random_search.best_params_)"
      ],
      "metadata": {
        "id": "IvvlFPAqnb1B"
      },
      "execution_count": null,
      "outputs": []
    }
  ]
}